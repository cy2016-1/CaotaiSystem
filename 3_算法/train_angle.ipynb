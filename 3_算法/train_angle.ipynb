{
 "cells": [
  {
   "cell_type": "code",
   "execution_count": 1,
   "id": "5abf6a13",
   "metadata": {},
   "outputs": [
    {
     "name": "stdout",
     "output_type": "stream",
     "text": [
      "Model: \"sequential\"\n",
      "_________________________________________________________________\n",
      " Layer (type)                Output Shape              Param #   \n",
      "=================================================================\n",
      " dense (Dense)               (None, 1, 64)             192       \n",
      "                                                                 \n",
      " dense_1 (Dense)             (None, 1, 64)             4160      \n",
      "                                                                 \n",
      " dense_2 (Dense)             (None, 1, 2)              130       \n",
      "                                                                 \n",
      "=================================================================\n",
      "Total params: 4,482\n",
      "Trainable params: 4,482\n",
      "Non-trainable params: 0\n",
      "_________________________________________________________________\n"
     ]
    }
   ],
   "source": [
    "import tensorflow as tf\n",
    "from tensorflow.keras.models import Sequential\n",
    "from tensorflow.keras.layers import Dense\n",
    "# 设定输入和输出的形状\n",
    "input_shape = (1, 2)\n",
    "output_shape = (1, 2)\n",
    "# 创建模型\n",
    "model = Sequential()\n",
    "model.add(Dense(64, input_shape=input_shape, activation='relu'))  # 第一个隐藏层\n",
    "model.add(Dense(64, activation='relu'))  # 第二个隐藏层\n",
    "model.add(Dense(output_shape[0]*output_shape[1]))  # 输出层\n",
    "# 编译模型\n",
    "model.compile(optimizer='adam', loss='mean_squared_error', metrics=['accuracy'])\n",
    "# 打印模型的摘要\n",
    "model.summary()"
   ]
  },
  {
   "cell_type": "code",
   "execution_count": 4,
   "id": "0eb1a8a5",
   "metadata": {},
   "outputs": [],
   "source": [
    "# 导入训练数据\n",
    "import numpy as np\n",
    "train_data = np.genfromtxt('dataset_angle.txt', dtype=float)\n",
    "train_data = train_data.reshape((train_data.shape[0], 1, 4))\n",
    "train_angle = train_data[:,:,0:2]\n",
    "train_label = train_data[:,:,2:4]\n",
    "test_angle = train_angle # 训练到过拟合为止\n",
    "test_label = train_label"
   ]
  },
  {
   "cell_type": "code",
   "execution_count": 5,
   "id": "da982b73",
   "metadata": {},
   "outputs": [
    {
     "name": "stdout",
     "output_type": "stream",
     "text": [
      "Epoch 1/30\n",
      "1996/1996 [==============================] - 17s 7ms/step - loss: 22.4041 - accuracy: 0.9744\n",
      "Epoch 2/30\n",
      "1996/1996 [==============================] - 14s 7ms/step - loss: 14.3563 - accuracy: 0.9899\n",
      "Epoch 3/30\n",
      "1996/1996 [==============================] - 14s 7ms/step - loss: 9.6515 - accuracy: 0.9920\n",
      "Epoch 4/30\n",
      "1996/1996 [==============================] - 14s 7ms/step - loss: 5.3800 - accuracy: 0.9917\n",
      "Epoch 5/30\n",
      "1996/1996 [==============================] - 14s 7ms/step - loss: 3.2946 - accuracy: 0.9898\n",
      "Epoch 6/30\n",
      "1996/1996 [==============================] - 14s 7ms/step - loss: 2.4056 - accuracy: 0.9882\n",
      "Epoch 7/30\n",
      "1996/1996 [==============================] - 14s 7ms/step - loss: 1.9975 - accuracy: 0.9867\n",
      "Epoch 8/30\n",
      "1996/1996 [==============================] - 14s 7ms/step - loss: 1.7448 - accuracy: 0.9832\n",
      "Epoch 9/30\n",
      "1996/1996 [==============================] - 14s 7ms/step - loss: 1.5597 - accuracy: 0.9837\n",
      "Epoch 10/30\n",
      "1996/1996 [==============================] - 13s 7ms/step - loss: 1.5098 - accuracy: 0.9832\n",
      "Epoch 11/30\n",
      "1996/1996 [==============================] - 11s 6ms/step - loss: 1.4092 - accuracy: 0.9828\n",
      "Epoch 12/30\n",
      "1996/1996 [==============================] - 13s 6ms/step - loss: 1.2274 - accuracy: 0.9842\n",
      "Epoch 13/30\n",
      "1996/1996 [==============================] - 13s 7ms/step - loss: 1.1286 - accuracy: 0.9863\n",
      "Epoch 14/30\n",
      "1996/1996 [==============================] - 13s 6ms/step - loss: 1.0978 - accuracy: 0.9860\n",
      "Epoch 15/30\n",
      "1996/1996 [==============================] - 13s 6ms/step - loss: 1.0549 - accuracy: 0.9858\n",
      "Epoch 16/30\n",
      "1996/1996 [==============================] - 13s 6ms/step - loss: 1.0128 - accuracy: 0.9873\n",
      "Epoch 17/30\n",
      "1996/1996 [==============================] - 13s 6ms/step - loss: 0.9514 - accuracy: 0.9863\n",
      "Epoch 18/30\n",
      "1996/1996 [==============================] - 12s 6ms/step - loss: 0.8966 - accuracy: 0.9864\n",
      "Epoch 19/30\n",
      "1996/1996 [==============================] - 13s 6ms/step - loss: 0.8728 - accuracy: 0.9879\n",
      "Epoch 20/30\n",
      "1996/1996 [==============================] - 13s 6ms/step - loss: 0.8319 - accuracy: 0.9893\n",
      "Epoch 21/30\n",
      "1996/1996 [==============================] - 13s 6ms/step - loss: 0.7546 - accuracy: 0.9900\n",
      "Epoch 22/30\n",
      "1996/1996 [==============================] - 13s 6ms/step - loss: 0.7863 - accuracy: 0.9889\n",
      "Epoch 23/30\n",
      "1996/1996 [==============================] - 13s 6ms/step - loss: 0.7287 - accuracy: 0.9901\n",
      "Epoch 24/30\n",
      "1996/1996 [==============================] - 13s 6ms/step - loss: 0.8012 - accuracy: 0.9889\n",
      "Epoch 25/30\n",
      "1996/1996 [==============================] - 12s 6ms/step - loss: 0.6995 - accuracy: 0.9896\n",
      "Epoch 26/30\n",
      "1996/1996 [==============================] - 12s 6ms/step - loss: 0.6938 - accuracy: 0.9894\n",
      "Epoch 27/30\n",
      "1996/1996 [==============================] - 13s 6ms/step - loss: 0.6322 - accuracy: 0.9895\n",
      "Epoch 28/30\n",
      "1996/1996 [==============================] - 25s 13ms/step - loss: 0.6869 - accuracy: 0.9907\n",
      "Epoch 29/30\n",
      "1996/1996 [==============================] - 26s 13ms/step - loss: 0.6531 - accuracy: 0.9901\n",
      "Epoch 30/30\n",
      "1996/1996 [==============================] - 23s 12ms/step - loss: 0.6508 - accuracy: 0.9903\n"
     ]
    },
    {
     "data": {
      "text/plain": [
       "<keras.callbacks.History at 0x193b84e0bb0>"
      ]
     },
     "execution_count": 5,
     "metadata": {},
     "output_type": "execute_result"
    }
   ],
   "source": [
    "# 进行训练\n",
    "model.fit(train_angle, train_label, epochs=30, batch_size=16)"
   ]
  },
  {
   "cell_type": "code",
   "execution_count": 6,
   "id": "5f4fb9ae",
   "metadata": {},
   "outputs": [
    {
     "name": "stdout",
     "output_type": "stream",
     "text": [
      "998/998 [==============================] - 9s 9ms/step - loss: 0.5095 - accuracy: 0.9938\n"
     ]
    }
   ],
   "source": [
    "# 测试模型\n",
    "test_loss = model.evaluate(test_angle, test_label, verbose=1)"
   ]
  },
  {
   "cell_type": "code",
   "execution_count": 7,
   "id": "5736f33d",
   "metadata": {},
   "outputs": [],
   "source": [
    "# 保存模型\n",
    "model.save(\"model_angle.h5\")\n",
    "model.save_weights(\"model_weights_angle.h5\")"
   ]
  },
  {
   "cell_type": "code",
   "execution_count": null,
   "id": "88ea56b9",
   "metadata": {},
   "outputs": [],
   "source": []
  }
 ],
 "metadata": {
  "kernelspec": {
   "display_name": "Python 3 (ipykernel)",
   "language": "python",
   "name": "python3"
  },
  "language_info": {
   "codemirror_mode": {
    "name": "ipython",
    "version": 3
   },
   "file_extension": ".py",
   "mimetype": "text/x-python",
   "name": "python",
   "nbconvert_exporter": "python",
   "pygments_lexer": "ipython3",
   "version": "3.9.13"
  }
 },
 "nbformat": 4,
 "nbformat_minor": 5
}
