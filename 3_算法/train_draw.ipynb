{
 "cells": [
  {
   "cell_type": "code",
   "execution_count": 1,
   "id": "dcb2a6c7",
   "metadata": {},
   "outputs": [
    {
     "name": "stdout",
     "output_type": "stream",
     "text": [
      "Model: \"sequential\"\n",
      "_________________________________________________________________\n",
      " Layer (type)                Output Shape              Param #   \n",
      "=================================================================\n",
      " dense (Dense)               (None, 1, 64)             256       \n",
      "                                                                 \n",
      " dense_1 (Dense)             (None, 1, 64)             4160      \n",
      "                                                                 \n",
      " dense_2 (Dense)             (None, 1, 64)             4160      \n",
      "                                                                 \n",
      " dense_3 (Dense)             (None, 1, 3)              195       \n",
      "                                                                 \n",
      "=================================================================\n",
      "Total params: 8,771\n",
      "Trainable params: 8,771\n",
      "Non-trainable params: 0\n",
      "_________________________________________________________________\n"
     ]
    }
   ],
   "source": [
    "import tensorflow as tf\n",
    "from tensorflow.keras.models import Sequential\n",
    "from tensorflow.keras.layers import Dense\n",
    "# 设定输入和输出的形状\n",
    "input_shape = (1, 3)\n",
    "output_shape = (1, 3)\n",
    "# 创建模型\n",
    "model = Sequential()\n",
    "model.add(Dense(64, input_shape=input_shape, activation='relu'))  # 第一个隐藏层\n",
    "model.add(Dense(64, input_shape=input_shape, activation='relu'))  # 第一个隐藏层\n",
    "model.add(Dense(64, activation='relu'))  # 第二个隐藏层\n",
    "model.add(Dense(output_shape[0]*output_shape[1]))  # 输出层\n",
    "# 编译模型\n",
    "model.compile(optimizer='adam', loss='mean_squared_error', metrics=['accuracy'])\n",
    "# 打印模型的摘要\n",
    "model.summary()"
   ]
  },
  {
   "cell_type": "code",
   "execution_count": 4,
   "id": "e3bee3b9",
   "metadata": {},
   "outputs": [],
   "source": [
    "# 导入训练数据\n",
    "import numpy as np\n",
    "train_data = np.genfromtxt('dataset_draw.txt', dtype=float)\n",
    "train_data = train_data.reshape((train_data.shape[0], 1, 6))\n",
    "train_draw = train_data[:,:,0:3]\n",
    "train_label = train_data[:,:,3:6]\n",
    "test_draw = train_draw # 训练到过拟合为止\n",
    "test_label = train_label"
   ]
  },
  {
   "cell_type": "code",
   "execution_count": 5,
   "id": "c9c0f6a6",
   "metadata": {},
   "outputs": [
    {
     "name": "stdout",
     "output_type": "stream",
     "text": [
      "Epoch 1/50\n",
      "3935/3935 [==============================] - 66s 15ms/step - loss: 1.8554 - accuracy: 0.9727\n",
      "Epoch 2/50\n",
      "3935/3935 [==============================] - 38s 10ms/step - loss: 0.2540 - accuracy: 0.9812\n",
      "Epoch 3/50\n",
      "3935/3935 [==============================] - 33s 8ms/step - loss: 0.2216 - accuracy: 0.9849\n",
      "Epoch 4/50\n",
      "3935/3935 [==============================] - 30s 8ms/step - loss: 0.1986 - accuracy: 0.9871\n",
      "Epoch 5/50\n",
      "3935/3935 [==============================] - 31s 8ms/step - loss: 0.1866 - accuracy: 0.9887\n",
      "Epoch 6/50\n",
      "3935/3935 [==============================] - 32s 8ms/step - loss: 0.1701 - accuracy: 0.9899\n",
      "Epoch 7/50\n",
      "3935/3935 [==============================] - 33s 8ms/step - loss: 0.1623 - accuracy: 0.9911\n",
      "Epoch 8/50\n",
      "3935/3935 [==============================] - 33s 8ms/step - loss: 0.1538 - accuracy: 0.9909\n",
      "Epoch 9/50\n",
      "3935/3935 [==============================] - 32s 8ms/step - loss: 0.1512 - accuracy: 0.9905\n",
      "Epoch 10/50\n",
      "3935/3935 [==============================] - 32s 8ms/step - loss: 0.1357 - accuracy: 0.9912\n",
      "Epoch 11/50\n",
      "3935/3935 [==============================] - 32s 8ms/step - loss: 0.1294 - accuracy: 0.9923\n",
      "Epoch 12/50\n",
      "3935/3935 [==============================] - 31s 8ms/step - loss: 0.1248 - accuracy: 0.9927\n",
      "Epoch 13/50\n",
      "3935/3935 [==============================] - 31s 8ms/step - loss: 0.1173 - accuracy: 0.9922\n",
      "Epoch 14/50\n",
      "3935/3935 [==============================] - 31s 8ms/step - loss: 0.1082 - accuracy: 0.9924\n",
      "Epoch 15/50\n",
      "3935/3935 [==============================] - 31s 8ms/step - loss: 0.1026 - accuracy: 0.9925\n",
      "Epoch 16/50\n",
      "3935/3935 [==============================] - 31s 8ms/step - loss: 0.0983 - accuracy: 0.9927\n",
      "Epoch 17/50\n",
      "3935/3935 [==============================] - 31s 8ms/step - loss: 0.0933 - accuracy: 0.9930\n",
      "Epoch 18/50\n",
      "3935/3935 [==============================] - 32s 8ms/step - loss: 0.0864 - accuracy: 0.9928\n",
      "Epoch 19/50\n",
      "3935/3935 [==============================] - 31s 8ms/step - loss: 0.0806 - accuracy: 0.9925\n",
      "Epoch 20/50\n",
      "3935/3935 [==============================] - 31s 8ms/step - loss: 0.0770 - accuracy: 0.9933\n",
      "Epoch 21/50\n",
      "3935/3935 [==============================] - 31s 8ms/step - loss: 0.0665 - accuracy: 0.9933\n",
      "Epoch 22/50\n",
      "3935/3935 [==============================] - 31s 8ms/step - loss: 0.0619 - accuracy: 0.9939\n",
      "Epoch 23/50\n",
      "3935/3935 [==============================] - 31s 8ms/step - loss: 0.0588 - accuracy: 0.9933\n",
      "Epoch 24/50\n",
      "3935/3935 [==============================] - 31s 8ms/step - loss: 0.0576 - accuracy: 0.9932\n",
      "Epoch 25/50\n",
      "3935/3935 [==============================] - 31s 8ms/step - loss: 0.0568 - accuracy: 0.9940\n",
      "Epoch 26/50\n",
      "3935/3935 [==============================] - 31s 8ms/step - loss: 0.0549 - accuracy: 0.9939\n",
      "Epoch 27/50\n",
      "3935/3935 [==============================] - 31s 8ms/step - loss: 0.0532 - accuracy: 0.9937\n",
      "Epoch 28/50\n",
      "3935/3935 [==============================] - 31s 8ms/step - loss: 0.0494 - accuracy: 0.9938\n",
      "Epoch 29/50\n",
      "3935/3935 [==============================] - 31s 8ms/step - loss: 0.0489 - accuracy: 0.9938\n",
      "Epoch 30/50\n",
      "3935/3935 [==============================] - 31s 8ms/step - loss: 0.0448 - accuracy: 0.9940\n",
      "Epoch 31/50\n",
      "3935/3935 [==============================] - 31s 8ms/step - loss: 0.0449 - accuracy: 0.9943\n",
      "Epoch 32/50\n",
      "3935/3935 [==============================] - 31s 8ms/step - loss: 0.0430 - accuracy: 0.9943\n",
      "Epoch 33/50\n",
      "3935/3935 [==============================] - 32s 8ms/step - loss: 0.0437 - accuracy: 0.9946\n",
      "Epoch 34/50\n",
      "3935/3935 [==============================] - 31s 8ms/step - loss: 0.0441 - accuracy: 0.9944\n",
      "Epoch 35/50\n",
      "3935/3935 [==============================] - 31s 8ms/step - loss: 0.0400 - accuracy: 0.9945\n",
      "Epoch 36/50\n",
      "3935/3935 [==============================] - 31s 8ms/step - loss: 0.0393 - accuracy: 0.9945\n",
      "Epoch 37/50\n",
      "3935/3935 [==============================] - 31s 8ms/step - loss: 0.0413 - accuracy: 0.9946\n",
      "Epoch 38/50\n",
      "3935/3935 [==============================] - 31s 8ms/step - loss: 0.0392 - accuracy: 0.9945\n",
      "Epoch 39/50\n",
      "3935/3935 [==============================] - 31s 8ms/step - loss: 0.0386 - accuracy: 0.9946\n",
      "Epoch 40/50\n",
      "3935/3935 [==============================] - 32s 8ms/step - loss: 0.0377 - accuracy: 0.9946\n",
      "Epoch 41/50\n",
      "3935/3935 [==============================] - 32s 8ms/step - loss: 0.0374 - accuracy: 0.9950\n",
      "Epoch 42/50\n",
      "3935/3935 [==============================] - 31s 8ms/step - loss: 0.0376 - accuracy: 0.9946\n",
      "Epoch 43/50\n",
      "3935/3935 [==============================] - 32s 8ms/step - loss: 0.0355 - accuracy: 0.9950\n",
      "Epoch 44/50\n",
      "3935/3935 [==============================] - 31s 8ms/step - loss: 0.0357 - accuracy: 0.9947\n",
      "Epoch 45/50\n",
      "3935/3935 [==============================] - 32s 8ms/step - loss: 0.0366 - accuracy: 0.9945\n",
      "Epoch 46/50\n",
      "3935/3935 [==============================] - 32s 8ms/step - loss: 0.0362 - accuracy: 0.9949\n",
      "Epoch 47/50\n",
      "3935/3935 [==============================] - 31s 8ms/step - loss: 0.0361 - accuracy: 0.9946\n",
      "Epoch 48/50\n",
      "3935/3935 [==============================] - 31s 8ms/step - loss: 0.0369 - accuracy: 0.9949\n",
      "Epoch 49/50\n",
      "3935/3935 [==============================] - 31s 8ms/step - loss: 0.0344 - accuracy: 0.9949\n",
      "Epoch 50/50\n",
      "3935/3935 [==============================] - 31s 8ms/step - loss: 0.0340 - accuracy: 0.9946\n"
     ]
    },
    {
     "data": {
      "text/plain": [
       "<keras.callbacks.History at 0x23267c194f0>"
      ]
     },
     "execution_count": 5,
     "metadata": {},
     "output_type": "execute_result"
    }
   ],
   "source": [
    "# 进行训练\n",
    "model.fit(train_draw, train_label, epochs=50, batch_size=16)"
   ]
  },
  {
   "cell_type": "code",
   "execution_count": 6,
   "id": "d26990a1",
   "metadata": {},
   "outputs": [
    {
     "name": "stdout",
     "output_type": "stream",
     "text": [
      "1968/1968 [==============================] - 12s 6ms/step - loss: 0.0246 - accuracy: 0.9941\n"
     ]
    }
   ],
   "source": [
    "# 测试模型\n",
    "test_loss = model.evaluate(test_draw, test_label, verbose=1)"
   ]
  },
  {
   "cell_type": "code",
   "execution_count": 7,
   "id": "652fdb7c",
   "metadata": {},
   "outputs": [],
   "source": [
    "# 保存模型\n",
    "model.save(\"model_draw.h5\")\n",
    "model.save_weights(\"model_weights_draw.h5\")"
   ]
  },
  {
   "cell_type": "code",
   "execution_count": null,
   "id": "fe8227bc",
   "metadata": {},
   "outputs": [],
   "source": []
  }
 ],
 "metadata": {
  "kernelspec": {
   "display_name": "Python 3 (ipykernel)",
   "language": "python",
   "name": "python3"
  },
  "language_info": {
   "codemirror_mode": {
    "name": "ipython",
    "version": 3
   },
   "file_extension": ".py",
   "mimetype": "text/x-python",
   "name": "python",
   "nbconvert_exporter": "python",
   "pygments_lexer": "ipython3",
   "version": "3.9.13"
  }
 },
 "nbformat": 4,
 "nbformat_minor": 5
}
